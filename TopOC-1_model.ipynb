{
 "cells": [
  {
   "cell_type": "code",
   "execution_count": null,
   "id": "727ac919-e1b5-4833-8f8e-9b8c06103c85",
   "metadata": {},
   "outputs": [],
   "source": [
    "from xgboost import XGBClassifier\n",
    "from sklearn.metrics import accuracy_score, balanced_accuracy_score, roc_auc_score, precision_score, recall_score\n",
    "import pandas as pd\n",
    "from sklearn.model_selection import train_test_split\n",
    "\n",
    "\n",
    "\n",
    "\n",
    "modelx = XGBClassifier(use_label_encoder=False, eval_metric='mlogloss', n_estimators=300, \n",
    "                       max_depth=5, learning_rate=0.05, subsample=0.9, colsample_bytree=0.9, random_state=0)\n",
    "modelx.fit(x_train, y_train)\n",
    "\n",
    "\n",
    "importance = modelx.feature_importances_\n",
    "\n",
    "\n",
    "features = pd.DataFrame({'Feature': x_train.columns, 'Importance': importance})\n",
    "\n",
    "\n",
    "features = features.sort_values(by='Importance', ascending=False)\n",
    "\n",
    "def evaluate_top_features(top_n):\n",
    "    top_features = features.head(top_n)['Feature']\n",
    "\n",
    "    x_train_top = x_train[top_features]\n",
    "    x_test_top = x_test[top_features]\n",
    "    \n",
    "    modelx_top = XGBClassifier(use_label_encoder=False, eval_metric='mlogloss', n_estimators=300, \n",
    "                               max_depth=5, learning_rate=0.05, subsample=0.9, colsample_bytree=0.9, random_state=0)\n",
    "    modelx_top.fit(x_train_top, y_train)\n",
    "    y_predx_top = modelx_top.predict(x_test_top)\n",
    "    y_pred_proba_top = modelx_top.predict_proba(x_test_top)\n",
    "    \n",
    "\n",
    "    accuracy = accuracy_score(y_test, y_predx_top)\n",
    "    balanced_accuracy = balanced_accuracy_score(y_test, y_predx_top)\n",
    "    auc_score = roc_auc_score(y_test, y_pred_proba_top, average='macro', multi_class='ovr')\n",
    "    precision = precision_score(y_test, y_predx_top, average='macro')\n",
    "    recall = recall_score(y_test, y_predx_top, average='macro')\n",
    "    \n",
    "    return {\n",
    "        'Top N Features': top_n,\n",
    "        'Accuracy': accuracy,\n",
    "        'Balanced Accuracy': balanced_accuracy,\n",
    "        'AUC Score': auc_score,\n",
    "        'Precision': precision,\n",
    "        'Recall': recall\n",
    "    }\n",
    "results = []\n",
    "for top_n in [50, 100, 200, 400]:\n",
    "    result = evaluate_top_features(top_n)\n",
    "    results.append(result)\n",
    "\n",
    "results_df = pd.DataFrame(results)\n",
    "print(results_df)\n"
   ]
  },
  {
   "cell_type": "code",
   "execution_count": null,
   "id": "2bd43810-c4c5-46b7-bcbf-9bec196660c5",
   "metadata": {},
   "outputs": [],
   "source": []
  }
 ],
 "metadata": {
  "kernelspec": {
   "display_name": "Python 3 (ipykernel)",
   "language": "python",
   "name": "python3"
  },
  "language_info": {
   "codemirror_mode": {
    "name": "ipython",
    "version": 3
   },
   "file_extension": ".py",
   "mimetype": "text/x-python",
   "name": "python",
   "nbconvert_exporter": "python",
   "pygments_lexer": "ipython3",
   "version": "3.9.18"
  }
 },
 "nbformat": 4,
 "nbformat_minor": 5
}
